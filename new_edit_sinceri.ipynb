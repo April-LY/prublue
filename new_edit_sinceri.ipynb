{
  "nbformat": 4,
  "nbformat_minor": 0,
  "metadata": {
    "colab": {
      "name": "new_edit_sinceri.ipynb",
      "provenance": [],
      "collapsed_sections": [],
      "authorship_tag": "ABX9TyNkYS6nV6LyLQiInp/iPKKB",
      "include_colab_link": true
    },
    "kernelspec": {
      "name": "python3",
      "display_name": "Python 3"
    },
    "language_info": {
      "name": "python"
    }
  },
  "cells": [
    {
      "cell_type": "markdown",
      "metadata": {
        "id": "view-in-github",
        "colab_type": "text"
      },
      "source": [
        "<a href=\"https://colab.research.google.com/github/April-LY/prublue/blob/master/new_edit_sinceri.ipynb\" target=\"_parent\"><img src=\"https://colab.research.google.com/assets/colab-badge.svg\" alt=\"Open In Colab\"/></a>"
      ]
    },
    {
      "cell_type": "code",
      "metadata": {
        "id": "XHQmkmtdHOpI"
      },
      "source": [
        "import os\n",
        "import pandas as pd\n",
        "from pathlib import Path\n",
        "import numpy as np\n",
        "from scipy import stats"
      ],
      "execution_count": null,
      "outputs": []
    },
    {
      "cell_type": "code",
      "metadata": {
        "id": "-eWdz9DLHU5V"
      },
      "source": [
        "class DATA():\n",
        "  def __init__(self, time, num_time_points, totDATA, timeline, numGENES, genes,singleCELLdata):\n",
        "    self.time = time\n",
        "    self.num_time_points = num_time_points\n",
        "    self.totDATA = totDATA\n",
        "    self.timeline = timeline\n",
        "    self.numGENES = numGENES\n",
        "    self.genes = genes\n",
        "    self.singleCELLdata = singleCELLdata\n",
        "    ''' a error maybe the siglecelldata format'''"
      ],
      "execution_count": null,
      "outputs": []
    },
    {
      "cell_type": "code",
      "metadata": {
        "id": "maC4dSmJHYTD"
      },
      "source": [
        "def uploading():\n",
        "  Whole_Data = pd.read_csv('/content/THP1_single_cell_data.csv')\n",
        "  Whole_Data = pd.DataFrame(Whole_Data)\n",
        "\n",
        "  #acquire gene name and the number of genes\n",
        "  genes = Whole_Data.keys()\n",
        "  genes = genes[0:-1]\n",
        "  numGENES = len(genes)\n",
        "\n",
        "  #delete the na column\n",
        "  '''Q:different pesudotime the na value of the same cell\n",
        "  will the condition be the same'''\n",
        "  Whole_Data.dropna(axis = 1,how = \"any\",inplace = True)\n",
        "\n",
        "\n",
        "  #totDATA delete the column of time--the last column\n",
        "  Whole_Data = Whole_Data.values\n",
        "  totData = Whole_Data[:,0:-1]\n",
        "\n",
        "  #timeline extract all of the time point\n",
        "  timeline = Whole_Data[:,-1]\n",
        "  \n",
        "  #Data.time euqals to different time type\n",
        "  #number of different pesudotime\n",
        "  time = list(set(timeline))\n",
        "  time.sort()\n",
        "  print(\"-----------\")\n",
        "  print(time)\n",
        "  num_time_points = len(time)\n",
        "\n",
        "  sortTOTdata = []\n",
        "  sortTIMELINE = []\n",
        "  \n",
        "  for k in range(num_time_points):\n",
        "    I = np.where(timeline == time[k])\n",
        "    sortTOTdata.append(totData[I,:])\n",
        "    sortTIMELINE.append(timeline[I])\n",
        "  print(sortTOTdata)\n",
        "  print(sortTIMELINE[0])\n",
        "\n",
        "  totDATA=sortTOTdata\n",
        "  timeline=sortTIMELINE\n",
        "\n",
        "  '''lack the function of adding the default name'''\n",
        "  singleCELLdata = sortTOTdata\n",
        "  dt = DATA(time, num_time_points, totData, timeline, numGENES, genes, singleCELLdata)\n",
        "  return dt\n",
        "\n",
        "DATA = uploading() "
      ],
      "execution_count": null,
      "outputs": []
    },
    {
      "cell_type": "code",
      "metadata": {
        "id": "P8zcamDsKNWQ"
      },
      "source": [
        "from glmnet import glmnet\n",
        "from cvglmnet import cvglmnet\n",
        "from cvglmnetPlot import cvglmnetPlot"
      ],
      "execution_count": null,
      "outputs": []
    },
    {
      "cell_type": "code",
      "metadata": {
        "id": "4BhTLCaHHj6J"
      },
      "source": [
        "def SINCERIETIES(DATA,distance = 1,method = 1,noDIAG = 0,SIGN = 1):\n",
        "\n",
        "  ##Check input arguments\n",
        "  if distance not in range(1,4):\n",
        "    print(\"Choose distance metric with 1,2 and 3: 1 for Kolmogorov-Smirnov(KM), 2 for Cramer-von Mises(CM), 3 for Anderson-Darling(AD)\")\n",
        "\n",
        "  ##Initialization\n",
        "  time = DATA.time\n",
        "  single_cell_data = DATA.singleCELLdata\n",
        "  numGENES = DATA.numGENES\n",
        "  num_time_points = len(time)\n",
        "\n",
        "  ##catch error\n",
        "\n",
        "  #Distribution distance\n",
        "  #Distance_matrix = np.arange(120).reshape(num_time_points-1,numGENES)\n",
        "  Distance_matrix = np.zeros(shape = (num_time_points-1,numGENES))\n",
        "  \n",
        "  #print(Distance_matrix)\n",
        "  totalDATA = single_cell_data[0]\n",
        "  print(totalDATA) \n",
        "  #print(single_cell_data[1])\n",
        "\n",
        "  '''cmtest2'''\n",
        "\n",
        "  for ti in range(0,num_time_points-1):\n",
        "    totalDATA = np.append(totalDATA,single_cell_data[ti+1])\n",
        "    data_ti = single_cell_data[ti].T\n",
        "    data_ti_plus1 = single_cell_data[ti+1].T\n",
        "    \n",
        "    for gi in range(0,numGENES):\n",
        "      p1 = data_ti[gi,:]\n",
        "      p2 = data_ti_plus1[gi,:]\n",
        "      if distance == 1:\n",
        "        p1 = p1.flatten()\n",
        "        p2 = p2.flatten()\n",
        "        #print(p2)\n",
        "        test_stat = stats.ks_2samp(p1,p2)\n",
        "        #print(test_stat.statistic)\n",
        "        Distance_matrix[ti,gi] = test_stat.statistic\n",
        "    \n",
        "  ######################\n",
        "  ##normalization\n",
        "  #####################\n",
        "  print(DATA.time[1:])\n",
        "  print(DATA.time[0:-1])\n",
        "  templist = list(map(lambda x: x[0]-x[1], zip(DATA.time[1:], DATA.time[0:-1])))\n",
        "  templist\n",
        "  dim1 = np.shape(Distance_matrix)[1]\n",
        "  dim2 = np.shape(Distance_matrix)[0]\n",
        "  flatten_temp_array = templist * dim1\n",
        "  #print(x)\n",
        "  #print(y)\n",
        "  deltaT = np.reshape(flatten_temp_array,(dim1,dim2)).T\n",
        "  Distance_matrix_normed = Distance_matrix/deltaT\n",
        "  #print(Distance_matrix_normed)\n",
        "  #print(deltaT)\n",
        "\n",
        "  #############################\n",
        "  #Generate Y and X_matrix for glmnet\n",
        "  #method = 1 ridge\n",
        "  #############################\n",
        "  \n",
        "  alphas = [0]\n",
        "  print(len(alphas))\n",
        "  Distance_matrix = Distance_matrix_normed\n",
        "  X_matrix = Distance_matrix[0:num_time_points-2,]\n",
        "  #print(X_matrix)\n",
        "\n",
        "  ###################\n",
        "  #LOOCV settings\n",
        "  ####################\n",
        "  nfold = np.shape(X_matrix)[0]\n",
        "  foldid = range(1,nfold+1)\n",
        "  keep = True\n",
        "  print(numGENES)\n",
        "  pred_lambda_min = np.zeros((numGENES,numGENES))\n",
        "  print(pred_lambda_min)\n",
        "  '''  \n",
        "  lack elseif\n",
        "  print(totalDATA) \n",
        "  a = range(0,num_time_points-1)\n",
        "  print(a)\n",
        "  '''  \n",
        "  for gi in range(0,numGENES):\n",
        "    cvlambda = []\n",
        "    cvERROR = []\n",
        "    beta = np.zeros((np.shape(X_matrix)[1],len(alphas)))\n",
        "\n",
        "    for test in range(0,len(alphas)):\n",
        "      Y_vector = Distance_matrix[1:num_time_points-1,gi]\n",
        "      #new\n",
        "      CV_results = cvglmnet(X_matrix, Y_vector,nfolds = nfold, foldid = foldid, keep = keep,grouped = False)\n",
        "      #X_matrix,Y_vector,alpha=alphas[test],exclude=gi,nfolds = nfold, foldid = foldid,\n",
        "          #keep = keep, lower.limits=0, upper.limits=Inf, grouped = FALSE\n",
        "      cvglmnetPlot(CV_results)\n",
        "\n",
        "\n",
        "\n"
      ],
      "execution_count": null,
      "outputs": []
    },
    {
      "cell_type": "code",
      "metadata": {
        "id": "EGU2MojMKJ4L"
      },
      "source": [
        "SINCERIETIES(DATA)"
      ],
      "execution_count": null,
      "outputs": []
    }
  ]
}