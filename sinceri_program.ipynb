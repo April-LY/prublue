{
  "nbformat": 4,
  "nbformat_minor": 0,
  "metadata": {
    "colab": {
      "name": "sinceri_program.ipynb",
      "provenance": [],
      "collapsed_sections": [],
      "authorship_tag": "ABX9TyN2pjdKKpmMQPIcC+J5rcDb",
      "include_colab_link": true
    },
    "kernelspec": {
      "display_name": "Python 3",
      "name": "python3"
    }
  },
  "cells": [
    {
      "cell_type": "markdown",
      "metadata": {
        "id": "view-in-github",
        "colab_type": "text"
      },
      "source": [
        "<a href=\"https://colab.research.google.com/github/April-LY/prublue/blob/master/sinceri_program.ipynb\" target=\"_parent\"><img src=\"https://colab.research.google.com/assets/colab-badge.svg\" alt=\"Open In Colab\"/></a>"
      ]
    },
    {
      "cell_type": "code",
      "metadata": {
        "id": "Tx5mZG4aGB-l"
      },
      "source": [
        "import os\n",
        "import pandas as pd\n",
        "from pathlib import Path\n",
        "import numpy as np"
      ],
      "execution_count": 2,
      "outputs": []
    },
    {
      "cell_type": "code",
      "metadata": {
        "id": "adVlbpUiBAcs"
      },
      "source": [
        "class DATA():\n",
        "  def __init__(self, time, num_time_points, totDATA, timeline, numGENES, genes,singleCELLdata):\n",
        "    self.time = time\n",
        "    self.num_time_points = num_time_points\n",
        "    self.totDATA = totDATA\n",
        "    self.timeline = timeline\n",
        "    self.numGENES = numGENES\n",
        "    self.genes = genes\n",
        "    self.singleCELLdata = singleCELLdata\n",
        "    ''' a error maybe the siglecelldata format'''"
      ],
      "execution_count": 3,
      "outputs": []
    },
    {
      "cell_type": "code",
      "metadata": {
        "colab": {
          "base_uri": "https://localhost:8080/"
        },
        "id": "-6UBnRoSUMEr",
        "outputId": "b10403da-996a-4580-cd67-2eaa897e5e8a"
      },
      "source": [
        "def uploading():\n",
        "  Whole_Data = pd.read_csv('/content/THP1_single_cell_data.csv')\n",
        "  Whole_Data = pd.DataFrame(Whole_Data)\n",
        "\n",
        "  #acquire gene name and the number of genes\n",
        "  genes = Whole_Data.keys()\n",
        "  genes = genes[0:-1]\n",
        "  numGENES = len(genes)\n",
        "  #print(genes)\n",
        "\n",
        "  #delete the na column\n",
        "  '''Q:different pesudotime the na value of the same cell\n",
        "  will the condition be the same'''\n",
        "\n",
        "  Whole_Data.dropna(axis = 1,how = \"any\",inplace = True)\n",
        "  #print(Whole_Data)\n",
        "\n",
        "  #totDATA delete the column of time--the last column\n",
        "  Whole_Data = Whole_Data.values\n",
        "  print(Whole_Data)\n",
        "  totData = Whole_Data[:,0:-1]\n",
        "  #print(totData)\n",
        "\n",
        "  #timeline extract all of the time point\n",
        "  timeline = Whole_Data[:,-1]\n",
        "  #print(timeline)\n",
        "  \n",
        "  #Data.time euqals to different time type\n",
        "  #number of different pesudotime\n",
        "  time = list(set(timeline))\n",
        "  time.sort()\n",
        "  print(\"-----------\")\n",
        "  print(time)\n",
        "  num_time_points = len(time)\n",
        "\n",
        "  sortTOTdata = []\n",
        "  sortTIMELINE = []\n",
        "  \n",
        "  for k in range(num_time_points):\n",
        "    I = np.where(timeline == time[k])\n",
        "    sortTOTdata.append(totData[I,:])\n",
        "    sortTIMELINE.append(timeline[I])\n",
        "  print(sortTOTdata)\n",
        "  print(sortTIMELINE[0])\n",
        "\n",
        "  totDATA=sortTOTdata\n",
        "  timeline=sortTIMELINE\n",
        "\n",
        "  '''lack the function of adding the default name'''\n",
        "  singleCELLdata = sortTOTdata\n",
        "  dt = DATA(time, num_time_points, totData, timeline, numGENES, genes, singleCELLdata)\n",
        "  return dt\n",
        "\n",
        "DATA = uploading()\n",
        "#print(dt.time) "
      ],
      "execution_count": 4,
      "outputs": [
        {
          "output_type": "stream",
          "text": [
            "[[ 8.6953699  9.1754934  8.4145353 ... 13.7060081  8.3097131  0.       ]\n",
            " [14.0241672  8.2617432 12.6212516 ... 15.9133078  4.0480262  0.       ]\n",
            " [ 3.9539206  9.3483853  3.9539206 ... 18.9207062  3.9539206  0.       ]\n",
            " ...\n",
            " [22.5864836  7.9996349 11.9851245 ...  3.8497197  8.0481192 96.       ]\n",
            " [30.2255601  9.4110804  9.7783701 ... 13.959202   9.8297607 96.       ]\n",
            " [33.7970302 10.5759922 12.7840582 ... 10.7744225  9.6583099 96.       ]]\n",
            "-----------\n",
            "[0.0, 1.0, 6.0, 12.0, 24.0, 48.0, 72.0, 96.0]\n",
            "[array([[[ 8.6953699,  9.1754934,  8.4145353, ..., 12.9472126,\n",
            "         13.7060081,  8.3097131],\n",
            "        [14.0241672,  8.2617432, 12.6212516, ..., 14.0301398,\n",
            "         15.9133078,  4.0480262],\n",
            "        [ 3.9539206,  9.3483853,  3.9539206, ..., 13.5478473,\n",
            "         18.9207062,  3.9539206],\n",
            "        ...,\n",
            "        [10.457901 ,  9.0906098,  8.4633917, ..., 12.5913521,\n",
            "         14.7737557,  3.8217655],\n",
            "        [12.0211424, 12.1078583, 11.3680552, ..., 14.0509424,\n",
            "         13.1727074,  8.6176433],\n",
            "        [10.8013065,  8.4488772,  9.3184681, ..., 12.7281134,\n",
            "         18.4899218,  8.9175179]]]), array([[[14.0051696, 10.4108593, 12.9012858, ..., 14.8595781,\n",
            "         14.3912386,  4.111261 ],\n",
            "        [10.541803 , 10.3094063, 10.7876915, ..., 15.4760676,\n",
            "         13.1263219,  6.8504263],\n",
            "        [10.8459626, 10.204671 , 10.459112 , ..., 14.4823561,\n",
            "         22.4925605,  4.0342159],\n",
            "        ...,\n",
            "        [ 8.8281558, 11.3869955, 14.611962 , ..., 16.8543145,\n",
            "         15.4892794,  3.9457847],\n",
            "        [10.0720199,  8.550397 , 12.12687  , ..., 17.8470007,\n",
            "         20.6619119,  3.963044 ],\n",
            "        [11.627728 ,  9.4636707, 11.5431175, ..., 15.7978638,\n",
            "         14.3023098,  9.2159735]]]), array([[[16.2513181, 10.1068031, 11.5491193, ..., 12.7414076,\n",
            "         12.5470236,  7.6378093],\n",
            "        [15.89088  , 10.8234361,  4.0971859, ..., 11.3218314,\n",
            "          4.0971859,  9.6153132],\n",
            "        [15.2594318, 11.836425 ,  8.753741 , ..., 14.0023052,\n",
            "         12.5144749,  9.6033656],\n",
            "        ...,\n",
            "        [20.6890463,  9.4089184, 10.7485616, ..., 12.9145989,\n",
            "         14.661938 ,  3.9926982],\n",
            "        [18.6858379, 12.0650565,  8.9448142, ..., 14.2985947,\n",
            "          9.0272638,  6.8525066],\n",
            "        [23.335764 , 11.3676616, 10.5237277, ..., 12.5343826,\n",
            "         20.3609418,  8.8867667]]]), array([[[28.9277475, 11.4702003, 15.576172 , ..., 13.3544977,\n",
            "         14.9971036,  4.162166 ],\n",
            "        [33.3587321,  9.4639424, 11.9421734, ..., 13.19974  ,\n",
            "          4.0156986, 11.6132635],\n",
            "        [27.1224556,  9.5717042, 12.4070766, ...,  9.8972033,\n",
            "         12.4399291,  9.1471252],\n",
            "        ...,\n",
            "        [12.8614981,  7.4551561, 11.2774454, ...,  9.3493012,\n",
            "          9.471928 ,  9.3493233],\n",
            "        [36.218722 ,  9.7769737,  8.8338393, ..., 13.9467482,\n",
            "         13.6049566, 10.8291733],\n",
            "        [23.742545 ,  8.0042103, 10.3595853, ..., 10.3995859,\n",
            "          4.0078236,  7.8750348]]]), array([[[14.9792865,  8.5092126, 10.4735375, ..., 11.4611998,\n",
            "         16.9405489,  8.247417 ],\n",
            "        [23.1321376, 10.0143921,  9.544529 , ..., 11.4093951,\n",
            "         12.1882347,  9.9167324],\n",
            "        [18.7019375,  9.8310958,  4.0209161, ..., 11.0665296,\n",
            "          4.0209161,  8.5960267],\n",
            "        ...,\n",
            "        [26.451494 ,  9.0168701, 12.9367964, ..., 11.0106953,\n",
            "          4.1276035,  4.1276035],\n",
            "        [16.3253946,  9.9725853,  8.7251811, ..., 12.9055704,\n",
            "         19.2296884, 10.5553767],\n",
            "        [29.9244049,  9.319457 , 11.4384513, ..., 11.3779523,\n",
            "         10.8398249,  8.3068278]]]), array([[[24.5081342,  9.779547 , 12.5860502, ..., 14.3640693,\n",
            "          3.8528048,  3.8528048],\n",
            "        [28.0971093,  9.8441624,  8.6316173, ..., 13.9118324,\n",
            "         13.3170366,  4.0603391],\n",
            "        [25.1250787, 10.3937575, 12.2348032, ..., 13.5829531,\n",
            "         10.0638299,  7.2092251],\n",
            "        ...,\n",
            "        [18.1110373,  4.3989411, 12.7590191, ..., 10.2206389,\n",
            "          4.3989411,  4.3989411],\n",
            "        [17.6364796,  8.2044231, 15.7608302, ..., 13.4368467,\n",
            "          9.9854996,  8.3885864],\n",
            "        [27.8489018,  9.6015212,  9.4924325, ..., 15.4480907,\n",
            "         11.0261089,  8.8464835]]]), array([[[21.621227 ,  6.876092 , 10.5264759, ..., 12.420667 ,\n",
            "          3.8060309,  3.8060309],\n",
            "        [36.5693631,  7.6559553, 17.308552 , ..., 13.7506676,\n",
            "         23.161021 , 11.2269258],\n",
            "        [17.4137666, 11.2112762,  3.9168753, ..., 11.7825921,\n",
            "         11.8402713,  8.2759466],\n",
            "        ...,\n",
            "        [22.0977185, 10.2500168, 12.5770788, ..., 12.7252702,\n",
            "          8.7614244, 10.4955128],\n",
            "        [13.9431303,  8.8025092,  3.798745 , ..., 14.4177795,\n",
            "         17.6805406, 10.1836831],\n",
            "        [26.8878437,  9.8151754,  8.2062364, ..., 12.8286482,\n",
            "          3.9597553,  3.9597553]]]), array([[[23.9686255, 11.956821 , 22.7910222, ..., 19.9228142,\n",
            "          3.9231281,  9.302323 ],\n",
            "        [28.506501 ,  7.6031734,  9.6550844, ..., 10.5732543,\n",
            "         11.8548986,  8.1064769],\n",
            "        [26.4184981,  8.9196385, 15.3983156, ..., 12.7307317,\n",
            "         11.5469684,  8.8968071],\n",
            "        ...,\n",
            "        [22.5864836,  7.9996349, 11.9851245, ..., 10.1027751,\n",
            "          3.8497197,  8.0481192],\n",
            "        [30.2255601,  9.4110804,  9.7783701, ..., 11.4856333,\n",
            "         13.959202 ,  9.8297607],\n",
            "        [33.7970302, 10.5759922, 12.7840582, ..., 12.8647861,\n",
            "         10.7744225,  9.6583099]]])]\n",
            "[0. 0. 0. 0. 0. 0. 0. 0. 0. 0. 0. 0. 0. 0. 0. 0. 0. 0. 0. 0. 0. 0. 0. 0.\n",
            " 0. 0. 0. 0. 0. 0. 0. 0. 0. 0. 0. 0. 0. 0. 0. 0. 0. 0. 0. 0. 0. 0. 0. 0.\n",
            " 0. 0. 0. 0. 0. 0. 0. 0. 0. 0. 0. 0. 0. 0. 0. 0. 0. 0. 0. 0. 0. 0. 0. 0.\n",
            " 0. 0. 0. 0. 0. 0. 0. 0. 0. 0. 0. 0. 0. 0. 0. 0. 0. 0. 0. 0. 0. 0. 0. 0.\n",
            " 0. 0. 0. 0. 0. 0. 0. 0. 0. 0. 0. 0. 0. 0. 0. 0. 0. 0. 0. 0. 0. 0. 0. 0.]\n"
          ],
          "name": "stdout"
        }
      ]
    },
    {
      "cell_type": "markdown",
      "metadata": {
        "id": "yb73ufwDvj76"
      },
      "source": [
        "# 新段落"
      ]
    },
    {
      "cell_type": "markdown",
      "metadata": {
        "id": "ySPI04HRU7Oq"
      },
      "source": [
        "'''\n",
        "  if not genes:\n",
        "    for i in range(numGENES):\n",
        "      genes[i] = sprintf('Gene %d',i)\n",
        "  else:\n",
        "    genes = Whole_Data.keys()\n",
        "    genes = genes[1:-1]\n",
        "'''"
      ]
    },
    {
      "cell_type": "code",
      "metadata": {
        "id": "8U_OxohOKyKc"
      },
      "source": [
        "from scipy import stats"
      ],
      "execution_count": null,
      "outputs": []
    },
    {
      "cell_type": "code",
      "metadata": {
        "id": "kqaVMHed63AT"
      },
      "source": [
        "from scipy import stats\n",
        "'''\n",
        "Parameter settings:\n",
        "  distance: this parameter selects the distribution distance\n",
        "    1- for KS (Kolmogorov-Smirnov)  (* DEFAULT *)\n",
        "    2- for CM (Cramer-von Mises)\n",
        "    3- for AD (Anderson-Darling)\n",
        "\n",
        "  method: this parameter selects the regularization regression strategy\n",
        "    1- for RIDGE  (* DEFAULT *)\n",
        "    2- for ELASTIC-NET with automatic detection of optimal alpha parameter\n",
        "    3- for LASSO\n",
        "    4- for ELASTIC-NET with manual selection of alpha parameter\n",
        "\n",
        "  noDIAG: this parameter selects whether the auto-regulatory edge is inferred\n",
        "    0- GRN contains auto-regulatory edges (* DEFAULT *)\n",
        "    1- GRN contains no auto-regulatory edge\n",
        "   \n",
        "  SIGN: this parameter selects whether the sign / mode of the gene regulations is inferred\n",
        "    0- for unsigned GRN\n",
        "    1- for signed GRN (* DEFAULT *)\n",
        "  \n",
        "'''\n",
        "def SINCERIETIES(DATA,distance = 1,method = 1,noDIAG = 0,SIGN = 1):\n",
        "\n",
        "  ##Check input arguments\n",
        "  if distance not in range(1,4):\n",
        "    print(\"Choose distance metric with 1,2 and 3: 1 for Kolmogorov-Smirnov(KM), 2 for Cramer-von Mises(CM), 3 for Anderson-Darling(AD)\")\n",
        "\n",
        "  ##Initialization\n",
        "  time = DATA.time\n",
        "  single_cell_data = DATA.singleCELLdata\n",
        "  numGENES = DATA.numGENES\n",
        "  num_time_points = len(time)\n",
        "\n",
        "  ##catch error\n",
        "  '''\n",
        "  if num_time_points < 5:\n",
        "    print(\"'** DATA with a number of time points < 5. Please run SINCERITIES_CROSS_VALIDATION function **\")\n",
        "  '''\n",
        "\n",
        "  #Distribution distance\n",
        "  #Distance_matrix = np.arange(120).reshape(num_time_points-1,numGENES)\n",
        "  Distance_matrix = np.zeros(shape = (num_time_points-1,numGENES))\n",
        "  \n",
        "  #print(Distance_matrix)\n",
        "  totalDATA = single_cell_data[0]\n",
        "  print(totalDATA) \n",
        "  #print(single_cell_data[1])\n",
        "\n",
        "  '''cmtest2'''\n",
        "\n",
        "  for ti in range(0,num_time_points-1):\n",
        "    totalDATA = np.append(totalDATA,single_cell_data[ti+1])\n",
        "    data_ti = single_cell_data[ti].T\n",
        "    data_ti_plus1 = single_cell_data[ti+1].T\n",
        "    \n",
        "    for gi in range(0,numGENES):\n",
        "      p1 = data_ti[gi,:]\n",
        "      p2 = data_ti_plus1[gi,:]\n",
        "      if distance == 1:\n",
        "        p1 = p1.flatten()\n",
        "        p2 = p2.flatten()\n",
        "        #print(p2)\n",
        "        test_stat = stats.ks_2samp(p1,p2)\n",
        "        #print(test_stat.statistic)\n",
        "        Distance_matrix[ti,gi] = test_stat.statistic\n",
        "    \n",
        "  ######################\n",
        "  ##normalization\n",
        "  #####################\n",
        "  print(DATA.time[1:])\n",
        "  print(DATA.time[0:-1])\n",
        "  templist = list(map(lambda x: x[0]-x[1], zip(DATA.time[1:], DATA.time[0:-1])))\n",
        "  templist\n",
        "  dim1 = np.shape(Distance_matrix)[1]\n",
        "  dim2 = np.shape(Distance_matrix)[0]\n",
        "  flatten_temp_array = templist * dim1\n",
        "  #print(x)\n",
        "  #print(y)\n",
        "  deltaT = np.reshape(flatten_temp_array,(dim1,dim2)).T\n",
        "  Distance_matrix_normed = Distance_matrix/deltaT\n",
        "  #print(Distance_matrix_normed)\n",
        "  #print(deltaT)\n",
        "\n",
        "  #############################\n",
        "  #Generate Y and X_matrix for glmnet\n",
        "  #method = 1 ridge\n",
        "  #############################\n",
        "  \n",
        "  alphas = 0\n",
        "  Distance_matrix = Distance_matrix_normed\n",
        "  X_matrix = Distance_matrix[0:num_time_points-2,]\n",
        "  #print(X_matrix)\n",
        "\n",
        "  ###################\n",
        "  #LOOCV settings\n",
        "  ####################\n",
        "  nfold = np.shape(X_matrix)[0]\n",
        "  foldid = range(1,nfold+1)\n",
        "  \n",
        "  keep = True\n",
        "  print(numGENES)\n",
        "  pred_lambda_min = np.zeros((numGENES,numGENES))\n",
        "  print(pred_lambda_min)\n",
        "  '''  \n",
        "  lack elseif\n",
        "  print(totalDATA) \n",
        "  a = range(0,num_time_points-1)\n",
        "  print(a)\n",
        "  '''\n",
        "  import sklearn\n",
        "  from sklearn.linear_model import Ridge\n",
        "  for gi in range(0,numGENES):\n",
        "    cvlambda = []\n",
        "    cvERROR = []\n",
        "    beta = np.zeros((np.shape(X_matrix)[1],len(alphas)))\n",
        "\n",
        "    for test in range(1,len(alphas)):\n",
        "      Y_vector = Distance_matrix[1:num_time_points-1,gi]\n",
        "      ###############################\n",
        "      # 创建岭回归拟合\n",
        "      ###############################\n",
        "      ri = Ridge(alpha=alphas[test])\n",
        "      ri.fit(X_matrix, Y_vector)\n",
        "\n",
        "      ###############################\n",
        "      # 寻找最优lambda\n",
        "      ###############################\n",
        "      cvlambda[test] = ri.coef_\n",
        "\n",
        "      ###############################\n",
        "      # 没看懂\n",
        "      ###############################\n",
        "      cv_results = \n",
        "      cvlambda[test] = cv_results?\n",
        "\n",
        "\n"
      ],
      "execution_count": 5,
      "outputs": []
    },
    {
      "cell_type": "code",
      "metadata": {
        "colab": {
          "base_uri": "https://localhost:8080/",
          "height": 134
        },
        "id": "1P-kUOzNksFh",
        "outputId": "42c8ba19-2659-41d9-fc78-9cedee1f36e3"
      },
      "source": [
        "import time\n",
        "import numpy as np\n",
        "import matplotlib.pyplot as plt\n",
        "from sklearn.linear_model import LassoCV, LassoLarsCV, LassoLarsIC\n",
        "from sklearn import datasets\n"
      ],
      "execution_count": 7,
      "outputs": [
        {
          "output_type": "error",
          "ename": "SyntaxError",
          "evalue": "ignored",
          "traceback": [
            "\u001b[0;36m  File \u001b[0;32m\"<ipython-input-7-f9c7ad9b2d14>\"\u001b[0;36m, line \u001b[0;32m1\u001b[0m\n\u001b[0;31m    import time\u001b[0m\n\u001b[0m              ^\u001b[0m\n\u001b[0;31mSyntaxError\u001b[0m\u001b[0;31m:\u001b[0m invalid character in identifier\n"
          ]
        }
      ]
    },
    {
      "cell_type": "code",
      "metadata": {
        "colab": {
          "base_uri": "https://localhost:8080/"
        },
        "id": "DITvafJE_rVM",
        "outputId": "ee4f72f5-c57c-4d1d-b5b4-61e90678399c"
      },
      "source": [
        "SINCERIETIES(DATA)"
      ],
      "execution_count": 6,
      "outputs": [
        {
          "output_type": "stream",
          "text": [
            "[[[ 8.6953699  9.1754934  8.4145353 ... 12.9472126 13.7060081  8.3097131]\n",
            "  [14.0241672  8.2617432 12.6212516 ... 14.0301398 15.9133078  4.0480262]\n",
            "  [ 3.9539206  9.3483853  3.9539206 ... 13.5478473 18.9207062  3.9539206]\n",
            "  ...\n",
            "  [10.457901   9.0906098  8.4633917 ... 12.5913521 14.7737557  3.8217655]\n",
            "  [12.0211424 12.1078583 11.3680552 ... 14.0509424 13.1727074  8.6176433]\n",
            "  [10.8013065  8.4488772  9.3184681 ... 12.7281134 18.4899218  8.9175179]]]\n",
            "[1.0, 6.0, 12.0, 24.0, 48.0, 72.0, 96.0]\n",
            "[0.0, 1.0, 6.0, 12.0, 24.0, 48.0, 72.0]\n",
            "45\n",
            "[[0. 0. 0. ... 0. 0. 0.]\n",
            " [0. 0. 0. ... 0. 0. 0.]\n",
            " [0. 0. 0. ... 0. 0. 0.]\n",
            " ...\n",
            " [0. 0. 0. ... 0. 0. 0.]\n",
            " [0. 0. 0. ... 0. 0. 0.]\n",
            " [0. 0. 0. ... 0. 0. 0.]]\n"
          ],
          "name": "stdout"
        }
      ]
    },
    {
      "cell_type": "code",
      "metadata": {
        "colab": {
          "background_save": true,
          "base_uri": "https://localhost:8080/",
          "height": 300
        },
        "id": "wW2s4m1z13DK",
        "outputId": "2f8d9e3a-adce-4554-9509-5614605b9649"
      },
      "source": [
        "import glmnet"
      ],
      "execution_count": null,
      "outputs": [
        {
          "output_type": "stream",
          "text": [
            "Collecting glmnet\n",
            "\u001b[?25l  Downloading https://files.pythonhosted.org/packages/8d/d0/8d19e49b8ce8c4a4ea145c65ca05ed19f34217e7f99e23e653b803b61b13/glmnet-2.2.1-cp37-cp37m-manylinux2010_x86_64.whl (1.6MB)\n",
            "\u001b[K     |████████████████████████████████| 1.6MB 8.4MB/s \n",
            "\u001b[?25hRequirement already satisfied: joblib>=0.14.1 in /usr/local/lib/python3.7/dist-packages (from glmnet) (1.0.1)\n",
            "Requirement already satisfied: scipy>=0.14.1 in /usr/local/lib/python3.7/dist-packages (from glmnet) (1.4.1)\n",
            "Requirement already satisfied: scikit-learn>=0.18.0 in /usr/local/lib/python3.7/dist-packages (from glmnet) (0.22.2.post1)\n",
            "Requirement already satisfied: numpy>=1.9.2 in /usr/local/lib/python3.7/dist-packages (from glmnet) (1.19.5)\n",
            "Installing collected packages: glmnet\n",
            "Successfully installed glmnet-2.2.1\n"
          ],
          "name": "stdout"
        }
      ]
    },
    {
      "cell_type": "code",
      "metadata": {
        "id": "zIFfearKKznO"
      },
      "source": [
        "def main():\n",
        "\n",
        "  Data = uploading()\n",
        "\n",
        "  adj_matrix = SINCERIETIES(Data)\n",
        "  \n",
        "  return adj_matrix\n"
      ],
      "execution_count": null,
      "outputs": []
    },
    {
      "cell_type": "code",
      "metadata": {
        "colab": {
          "base_uri": "https://localhost:8080/",
          "height": 134
        },
        "id": "ufQvjn877_8r",
        "outputId": "50ce37ca-c6fe-40e2-fd98-a143065a162b"
      },
      "source": [
        "class DATA():\n",
        "  def __init__(self, time, num_time_points, totDATA, timeline, numGENES, genes, singleCELLdata)\n",
        "    self.time = time\n",
        "    self.num_time_points = num_time_points\n",
        "    self.totDATA = totDATA\n",
        "    self.timeline = timeline\n",
        "    self.numGENES = numGENES\n",
        "    self.genes = genes\n",
        "    self.singleCELLdata = singleCELLdata\n"
      ],
      "execution_count": null,
      "outputs": [
        {
          "output_type": "error",
          "ename": "SyntaxError",
          "evalue": "ignored",
          "traceback": [
            "\u001b[0;36m  File \u001b[0;32m\"<ipython-input-9-73734834ce2c>\"\u001b[0;36m, line \u001b[0;32m2\u001b[0m\n\u001b[0;31m    def __init__(self, time, num_time_points, totDATA, timeline, numGENES, genes, singleCELLdata)\u001b[0m\n\u001b[0m                                                                                                 ^\u001b[0m\n\u001b[0;31mSyntaxError\u001b[0m\u001b[0;31m:\u001b[0m invalid syntax\n"
          ]
        }
      ]
    },
    {
      "cell_type": "code",
      "metadata": {
        "id": "kDrxU-QfDDRB"
      },
      "source": [
        "??stats.kstest"
      ],
      "execution_count": null,
      "outputs": []
    },
    {
      "cell_type": "code",
      "metadata": {
        "id": "Hwh60en_DD--"
      },
      "source": [
        ""
      ],
      "execution_count": null,
      "outputs": []
    }
  ]
}